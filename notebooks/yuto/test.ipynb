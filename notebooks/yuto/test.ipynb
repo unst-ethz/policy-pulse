{
 "cells": [
  {
   "cell_type": "code",
   "execution_count": null,
   "id": "431e8185",
   "metadata": {
    "vscode": {
     "languageId": "plaintext"
    }
   },
   "outputs": [],
   "source": [
    "import csv\n",
    "import matplotlib"
   ]
  }
 ],
 "metadata": {
  "language_info": {
   "name": "python"
  }
 },
 "nbformat": 4,
 "nbformat_minor": 5
}
