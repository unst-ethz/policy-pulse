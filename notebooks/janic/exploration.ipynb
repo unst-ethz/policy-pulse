{
 "cells": [
  {
   "cell_type": "code",
   "execution_count": 5,
   "id": "c79785ed",
   "metadata": {},
   "outputs": [],
   "source": [
    "import requests\n",
    "import pandas as pd\n",
    "from io import StringIO\n",
    "\n",
    "url = \"https://digitallibrary.un.org/record/4060887/files/2025_7_23_ga_voting.csv?ln=en\"\n",
    "\n",
    "response = requests.get(url)\n"
   ]
  },
  {
   "cell_type": "code",
   "execution_count": null,
   "id": "c94e30df",
   "metadata": {},
   "outputs": [],
   "source": [
    "import os\n",
    "import pandas as pd\n",
    "\n",
    "# TODO: add vetoes, vetoes are not included atm\n",
    "def fetch_UN_data(dir_path=None):\n",
    "    \"\"\"\n",
    "    Fetches and processes United Nations General Assembly and Security Council voting data.\n",
    "    \n",
    "    This function retrieves voting data from either local files or the UN Digital Library,\n",
    "    and transforms the data into two formats: original and pivoted (transformed).\n",
    "    \n",
    "    Parameters:\n",
    "    -----------\n",
    "    dir_path : str, optional\n",
    "        Path to directory where data should be read from or saved to.\n",
    "        If None, data will be fetched from the UN Digital Library and not saved locally.\n",
    "    \n",
    "    Returns:\n",
    "    --------\n",
    "    tuple\n",
    "        A tuple containing four DataFrames:\n",
    "        - df_ga: Original GA voting data\n",
    "        - df_ga_transformed: Pivoted GA voting data with countries as columns\n",
    "        - df_sc: Original SC voting data\n",
    "        - df_sc_transformed: Pivoted SC voting data with countries as columns\n",
    "    \n",
    "    Notes:\n",
    "    ------\n",
    "    - Currently, the Security Council data does not include veto information explicitly.\n",
    "    \"\"\"\n",
    "\n",
    "    df_ga = None\n",
    "    df_sc = None\n",
    "\n",
    "    if dir_path:\n",
    "        try:\n",
    "            df_ga = pd.read_csv(f\"{dir_path}/2025_7_23_ga_voting.csv\")\n",
    "            df_sc = pd.read_csv(f\"{dir_path}/2025_7_21_sc_voting.csv\")\n",
    "        except FileNotFoundError:\n",
    "            print(\"Not all data found locally. Fetching from UN Digital Library...\")\n",
    "    if df_ga is None or df_sc is None:\n",
    "        ga_url = \"https://digitallibrary.un.org/record/4060887/files/2025_7_23_ga_voting.csv?ln=en\"\n",
    "        sc_url = \"https://digitallibrary.un.org/record/4055387/files/2025_7_21_sc_voting.csv?ln=en\"\n",
    "\n",
    "        try:\n",
    "            df_ga = pd.read_csv(ga_url)\n",
    "            df_sc = pd.read_csv(sc_url)\n",
    "\n",
    "            # Save data locally if dir_path is provided\n",
    "            if dir_path:\n",
    "                # Check if directory exists, create it if it doesn't\n",
    "                if not os.path.exists(dir_path):\n",
    "                    os.makedirs(dir_path)\n",
    "                    print(f\"Created directory: {dir_path}\")\n",
    "                \n",
    "                df_ga.to_csv(f\"{dir_path}/2025_7_23_ga_voting.csv\", index=False)\n",
    "                df_sc.to_csv(f\"{dir_path}/2025_7_21_sc_voting.csv\", index=False)\n",
    "        except Exception as e:\n",
    "            print(\"Error fetching data from UN Digital Library. The dataset might has been updated. Check the date in the URL.\")\n",
    "            print(f\"Error: {e}\")\n",
    "            return None, None, None, None\n",
    "    \n",
    "    # Transform ga data\n",
    "    ga_index_columns = [\"undl_id\", \"date\", \"session\", \"resolution\", \"draft\", \"committee_report\", \"meeting\", \"title\", \"agenda_title\", \"subjects\", \"total_yes\", \"total_no\", \"total_abstentions\", \"total_non_voting\", \"total_ms\", \"undl_link\"]\n",
    "    df_ga_transformed = df_ga.pivot(index=ga_index_columns, columns='ms_name', values='ms_vote').reset_index()\n",
    "    df_ga_transformed.columns.name = None\n",
    "\n",
    "    # Transform sc data\n",
    "    sc_index_columns = [\"undl_id\", \"date\", \"resolution\", \"draft\", \"meeting\", \"description\", \"agenda\", \"subjects\", \"modality\", \"total_yes\", \"total_no\", \"total_abstentions\", \"total_non_voting\", \"total_ms\", \"undl_link\"]\n",
    "    df_sc_transformed = df_sc.pivot(index=sc_index_columns, columns='ms_name', values='ms_vote').reset_index()\n",
    "    df_sc_transformed.columns.name = None\n",
    "\n",
    "    return df_ga, df_ga_transformed, df_sc, df_sc_transformed\n"
   ]
  },
  {
   "cell_type": "code",
   "execution_count": 23,
   "id": "0e43385c",
   "metadata": {},
   "outputs": [
    {
     "name": "stderr",
     "output_type": "stream",
     "text": [
      "C:\\Users\\janic\\AppData\\Local\\Temp\\ipykernel_96716\\2241883286.py:11: DtypeWarning: Columns (5,13) have mixed types. Specify dtype option on import or set low_memory=False.\n",
      "  df_ga = pd.read_csv(f\"{dir_path}/2025_7_23_ga_voting.csv\")\n"
     ]
    }
   ],
   "source": [
    "df_ga, df_ga_transformed, df_sc, df_sc_transformed = fetch_UN_data(dir_path=\"C:\\\\Users\\\\janic\\\\OneDrive\\\\Desktop\\\\ETH\\\\UN Projekt\\\\data\")"
   ]
  },
  {
   "cell_type": "code",
   "execution_count": null,
   "id": "c58f8cd8",
   "metadata": {},
   "outputs": [],
   "source": []
  }
 ],
 "metadata": {
  "kernelspec": {
   "display_name": "un-projekt",
   "language": "python",
   "name": "python3"
  },
  "language_info": {
   "codemirror_mode": {
    "name": "ipython",
    "version": 3
   },
   "file_extension": ".py",
   "mimetype": "text/x-python",
   "name": "python",
   "nbconvert_exporter": "python",
   "pygments_lexer": "ipython3",
   "version": "3.11.13"
  }
 },
 "nbformat": 4,
 "nbformat_minor": 5
}
