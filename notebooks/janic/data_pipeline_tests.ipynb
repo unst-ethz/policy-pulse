{
 "cells": [
  {
   "cell_type": "markdown",
   "id": "136545db",
   "metadata": {},
   "source": [
    "# Data Pipeline\n",
    "\n",
    "This notebook contains the preprocessing steps for the UN resolutions dataset. The goal is to create a clean and structured dataset that can be used for analysis and modeling.\n",
    "\n",
    "The current pipeline roughly looks like this:\n",
    "\n",
    "1. **Fetch Resolution**: Download the raw UN resolutions data from the source.\n",
    "2. **Transform Resolutions**: Change structure to one row per resolution.\n",
    "3. **Parse Subjects**: Subjects are currently a single string, that may contain multiple subjects. We create one row per resolution-subject pair.\n",
    "4. **Fetch Thesaurus**: Download the thesaurus data from the source (TTL file)\n",
    "5. **Parse Thesaurus Graph**: Parse the TTL file to extract the hierarchical relationships between subjects (using SKOS broader/narrower relationships).\n",
    "6. **Create Subject Lookup Table**: Build a subject reference table with subject_id (URI), labels in different languages, and any other metadata from the thesaurus.\n",
    "7. **Transform Subjects**: Change subject string to subject_id, which allows for multiple languages.\n",
    "8. **Normalize Dataframe**: Create separate tables for resolutions and subjects, and a mapping table for resolution-subject pairs.\n",
    "9. **Build Hierarchy Graph**: Create a directed graph structure from the thesaurus where edges represent parent-child relationships.\n",
    "10. **Generate Closure Table**: Create a closure table that contains all ancestor-descendant pairs with their depths. This includes:\n",
    "    - Self-references (each subject to itself at depth 0)\n",
    "    - All transitive relationships (every ancestor-descendant pair with their distance)\n",
    "11. **Index Tables**: Create indexes on foreign keys and frequently queried columns (resolution_id, subject_id, ancestor_id, descendant_id) for performance.\n",
    "12. **Implement Filter Functions**: Create query functions that use the closure table to efficiently filter resolutions by any category level (including all descendants)."
   ]
  },
  {
   "cell_type": "markdown",
   "id": "422cae45",
   "metadata": {},
   "source": [
    "Some subjects are in different schemes! example-> 1002319 "
   ]
  },
  {
   "cell_type": "code",
   "execution_count": 1,
   "id": "51f7dd75",
   "metadata": {},
   "outputs": [],
   "source": [
    "from resolution_analyzer import UNResolutionAnalyzer"
   ]
  },
  {
   "cell_type": "code",
   "execution_count": 2,
   "id": "5fbb2a6b",
   "metadata": {},
   "outputs": [
    {
     "name": "stdout",
     "output_type": "stream",
     "text": [
      "INFO - Logging setup complete.\n",
      "INFO - Initializing UNResolutionAnalyzer\n",
      "INFO - Loaded data from local source successfully.\n"
     ]
    },
    {
     "name": "stderr",
     "output_type": "stream",
     "text": [
      "c:\\Users\\janic\\OneDrive\\Desktop\\ETH\\UN Projekt\\policy-pulse\\notebooks\\janic\\resolution_analyzer.py:56: DtypeWarning: Columns (67,68,169,179) have mixed types. Specify dtype option on import or set low_memory=False.\n",
      "  self.resolution_table = pd.read_csv(resolution_table_path)\n"
     ]
    }
   ],
   "source": [
    "# Examples of how to use the UNResolutionAnalyzer class\n",
    "\n",
    "# 1. Basic initialization with default configuration\n",
    "analyzer = UNResolutionAnalyzer(config_path='config/data_sources.yaml')\n"
   ]
  },
  {
   "cell_type": "code",
   "execution_count": 3,
   "id": "e6b21e98",
   "metadata": {},
   "outputs": [
    {
     "name": "stdout",
     "output_type": "stream",
     "text": [
      "INFO - \n",
      "Final result: 5534 resolutions\n",
      "Total resolutions: 5534\n"
     ]
    }
   ],
   "source": [
    "# 2. Query all resolutions (no filters)\n",
    "all_resolutions = analyzer.query()\n",
    "print(f\"Total resolutions: {len(all_resolutions)}\")\n"
   ]
  },
  {
   "cell_type": "code",
   "execution_count": 4,
   "id": "23386bab",
   "metadata": {},
   "outputs": [
    {
     "name": "stdout",
     "output_type": "stream",
     "text": [
      "INFO - \n",
      "Final result: 835 resolutions\n",
      "Resolutions from 2000-2010: 835\n"
     ]
    }
   ],
   "source": [
    "# 3. Query by date range\n",
    "date_filtered = analyzer.query(start_date='2000-01-01', end_date='2010-12-31')\n",
    "print(f\"Resolutions from 2000-2010: {len(date_filtered)}\")\n"
   ]
  },
  {
   "cell_type": "code",
   "execution_count": 5,
   "id": "62cedb69",
   "metadata": {},
   "outputs": [
    {
     "name": "stdout",
     "output_type": "stream",
     "text": [
      "INFO - Expanded 1 subjects to 1157 (including descendants)\n",
      "INFO - After subject filter: 1872 resolutions\n",
      "INFO - \n",
      "Final result: 1872 resolutions\n",
      "Political and Legal Questions related resolutions: 1872\n"
     ]
    }
   ],
   "source": [
    "# 4. Query by subject with descendants\n",
    "# Using 'Political and Legal Questions' subject\n",
    "political_legal_questions_resolutions = analyzer.query(\n",
    "    subject_ids=['http://metadata.un.org/thesaurus/01'],\n",
    "    include_descendants=True\n",
    ")\n",
    "print(f\"Political and Legal Questions related resolutions: {len(political_legal_questions_resolutions)}\")"
   ]
  },
  {
   "cell_type": "code",
   "execution_count": 6,
   "id": "d7ff422d",
   "metadata": {},
   "outputs": [
    {
     "name": "stdout",
     "output_type": "stream",
     "text": [
      "INFO - After subject filter: 172 resolutions\n",
      "INFO - \n",
      "Final result: 172 resolutions\n",
      "Palestine Questions (strict) resolutions: 172\n"
     ]
    }
   ],
   "source": [
    "# 5. Query by subject without descendants\n",
    "palestine_questions_resolutions = analyzer.query(\n",
    "    subject_ids=['http://metadata.un.org/thesaurus/1004700'],\n",
    "    include_descendants=False\n",
    ")\n",
    "print(f\"Palestine Questions (strict) resolutions: {len(palestine_questions_resolutions)}\")\n"
   ]
  },
  {
   "cell_type": "code",
   "execution_count": 7,
   "id": "279fd1b4",
   "metadata": {},
   "outputs": [
    {
     "name": "stdout",
     "output_type": "stream",
     "text": [
      "INFO - Expanded 1 subjects to 723 (including descendants)\n",
      "INFO - After subject filter: 33 resolutions\n",
      "INFO - \n",
      "Final result: 33 resolutions\n",
      "Recent science and technology resolutions: 33\n"
     ]
    }
   ],
   "source": [
    "# 6. Combined query (date range and subject)\n",
    "science_technology_recent = analyzer.query(\n",
    "    start_date='2015-01-01',\n",
    "    subject_ids=['http://metadata.un.org/thesaurus/16'],  # Science and technology\n",
    "    include_descendants=True\n",
    ")\n",
    "print(f\"Recent science and technology resolutions: {len(science_technology_recent)}\")"
   ]
  }
 ],
 "metadata": {
  "kernelspec": {
   "display_name": "un-projekt",
   "language": "python",
   "name": "python3"
  },
  "language_info": {
   "codemirror_mode": {
    "name": "ipython",
    "version": 3
   },
   "file_extension": ".py",
   "mimetype": "text/x-python",
   "name": "python",
   "nbconvert_exporter": "python",
   "pygments_lexer": "ipython3",
   "version": "3.11.13"
  }
 },
 "nbformat": 4,
 "nbformat_minor": 5
}
