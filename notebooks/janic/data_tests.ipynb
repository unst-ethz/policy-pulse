{
 "cells": [
  {
   "cell_type": "markdown",
   "id": "acada072",
   "metadata": {},
   "source": [
    "# Test cases to test the abstracted data pipeline"
   ]
  },
  {
   "cell_type": "code",
   "execution_count": 1,
   "id": "cb4e719f",
   "metadata": {},
   "outputs": [
    {
     "name": "stdout",
     "output_type": "stream",
     "text": [
      "INFO - Logging setup complete.\n",
      "INFO - Initializing UNDataRepository\n",
      "INFO - URL is valid: https://digitallibrary.un.org/record/4075456/files/unbist-20250708_2.ttl\n",
      "INFO - Cached Data files found.\n",
      "INFO - Cached data loaded successfully.\n"
     ]
    },
    {
     "name": "stderr",
     "output_type": "stream",
     "text": [
      "c:\\Users\\janic\\OneDrive\\Desktop\\ETH\\UN Projekt\\policy-pulse\\notebooks\\janic\\unDataStream\\data\\repository.py:157: DtypeWarning: Columns (67,68,169,179) have mixed types. Specify dtype option on import or set low_memory=False.\n",
      "  self.resolution_table = pd.read_csv(data_path / 'resolution_table.csv')\n"
     ]
    },
    {
     "name": "stdout",
     "output_type": "stream",
     "text": [
      "INFO - Initialization Complete with Cached Data.\n"
     ]
    }
   ],
   "source": [
    "from unDataStream import DataRepository\n",
    "\n",
    "repo = DataRepository(config_path='config/data_sources.yaml')"
   ]
  },
  {
   "cell_type": "code",
   "execution_count": 2,
   "id": "a153a575",
   "metadata": {},
   "outputs": [],
   "source": [
    "from unDataStream import ResolutionQueryEngine\n",
    "\n",
    "query_engine = ResolutionQueryEngine(repo=repo)"
   ]
  },
  {
   "cell_type": "code",
   "execution_count": 3,
   "id": "5e4b2f5c",
   "metadata": {},
   "outputs": [
    {
     "name": "stdout",
     "output_type": "stream",
     "text": [
      "['AFG', 'AGO', 'ALB', 'AND', 'ARE', 'ARG', 'ARM', 'ATG', 'AUS', 'AUT', 'AZE', 'BDI', 'BEL', 'BEN', 'BFA', 'BGD', 'BGR', 'BHR', 'BHS', 'BIH', 'BLR', 'BLZ', 'BOL', 'BRA', 'BRB', 'BRN', 'BTN', 'BWA', 'CAF', 'CAN', 'CHE', 'CHL', 'CHN', 'CIV', 'CMR', 'COD', 'COG', 'COL', 'COM', 'CPV', 'CRI', 'CSK', 'CUB', 'CYP', 'CZE', 'DDR', 'DEU', 'DJI', 'DMA', 'DNK', 'DOM', 'DZA', 'EAT', 'EAZ', 'ECU', 'EGY', 'ERI', 'ESP', 'EST', 'ETH', 'FIN', 'FJI', 'FRA', 'FSM', 'GAB', 'GBR', 'GEO', 'GER', 'GHA', 'GIN', 'GMB', 'GNB', 'GNQ', 'GRC', 'GRD', 'GTM', 'GUY', 'HND', 'HRV', 'HTI', 'HUN', 'IDN', 'IND', 'IRL', 'IRN', 'IRQ', 'ISL', 'ISR', 'ITA', 'JAM', 'JOR', 'JPN', 'KAZ', 'KEN', 'KGZ', 'KHM', 'KIR', 'KNA', 'KOR', 'KWT', 'LAO', 'LBN', 'LBR', 'LBY', 'LCA', 'LIE', 'LKA', 'LSO', 'LTU', 'LUX', 'LVA', 'MAR', 'MCO', 'MDA', 'MDG', 'MDV', 'MEX', 'MHL', 'MKD', 'MLI', 'MLT', 'MMR', 'MNE', 'MNG', 'MOZ', 'MRT', 'MUS', 'MWI', 'MYS', 'NAM', 'NER', 'NGA', 'NIC', 'NLD', 'NOR', 'NPL', 'NRU', 'NZL', 'OMN', 'PAK', 'PAN', 'PER', 'PHL', 'PLW', 'PNG', 'POL', 'PRK', 'PRT', 'PRY', 'QAT', 'ROU', 'RUS', 'RWA', 'SAU', 'SCG', 'SDN', 'SEN', 'SGP', 'SLB', 'SLE', 'SLV', 'SMR', 'SOM', 'SRB', 'SSD', 'STP', 'SUN', 'SUR', 'SVK', 'SVN', 'SWE', 'SWZ', 'SYC', 'SYR', 'TCD', 'TGO', 'THA', 'TJK', 'TKM', 'TLS', 'TON', 'TTO', 'TUN', 'TUR', 'TUV', 'TZA', 'UGA', 'UKR', 'URY', 'USA', 'UZB', 'VCT', 'VEN', 'VNM', 'VUT', 'WSM', 'YEM', 'YMD', 'YUG', 'ZAF', 'ZMB', 'ZWE']\n"
     ]
    }
   ],
   "source": [
    "print(repo.get_data()['country_columns'])"
   ]
  },
  {
   "cell_type": "code",
   "execution_count": 4,
   "id": "49ade910",
   "metadata": {},
   "outputs": [
    {
     "name": "stdout",
     "output_type": "stream",
     "text": [
      "INFO - Analyzing agreement for 'CHN' across 5534 resolutions\n",
      "INFO - Retrieved agreement scores for 5534 resolutions\n",
      "   undl_id  AFG  AGO  ALB  AND  ARE  ARG  ARM  ATG  AUS  ...  VEN  VNM  VUT  \\\n",
      "0   278340  0.0  0.0  0.0  NaN  1.0  1.0  NaN  1.0  1.0  ...  1.0  0.0  NaN   \n",
      "1   278341  1.0  1.0  NaN  NaN  1.0  1.0  NaN  0.0  1.0  ...  1.0  1.0  1.0   \n",
      "2   278342  1.0  1.0  1.0  NaN  1.0  1.0  NaN  NaN  0.5  ...  1.0  1.0  NaN   \n",
      "3   278343  1.0  1.0  1.0  NaN  1.0  1.0  NaN  1.0  1.0  ...  1.0  1.0  1.0   \n",
      "4   278344  1.0  1.0  1.0  NaN  0.5  1.0  NaN  NaN  0.5  ...  1.0  1.0  0.5   \n",
      "\n",
      "   WSM  YEM  YMD  YUG  ZAF  ZMB  ZWE  \n",
      "0  1.0  NaN  0.0  1.0  NaN  1.0  0.5  \n",
      "1  0.5  1.0  1.0  1.0  NaN  1.0  1.0  \n",
      "2  1.0  1.0  1.0  1.0  NaN  1.0  1.0  \n",
      "3  1.0  1.0  1.0  1.0  NaN  1.0  1.0  \n",
      "4  0.5  1.0  1.0  1.0  NaN  1.0  1.0  \n",
      "\n",
      "[5 rows x 202 columns]\n"
     ]
    }
   ],
   "source": [
    "agreement_china = query_engine.query_agreement_between_countries('CHN')\n",
    "\n",
    "print(agreement_china.head())"
   ]
  },
  {
   "cell_type": "code",
   "execution_count": 5,
   "id": "3d99b544",
   "metadata": {},
   "outputs": [
    {
     "name": "stdout",
     "output_type": "stream",
     "text": [
      "INFO - Analyzing agreement for 'CHN' across 5534 resolutions\n"
     ]
    },
    {
     "name": "stdout",
     "output_type": "stream",
     "text": [
      "INFO - Calculated average agreements across 5534 resolutions\n",
      "  source_country  resolution_count       AFG       AGO       ALB       AND  \\\n",
      "0            CHN              5534  0.888852  0.909672  0.742148  0.673744   \n",
      "\n",
      "        ARE       ARG       ARM       ATG  ...       VEN       VNM       VUT  \\\n",
      "0  0.917784  0.857101  0.837031  0.893601  ...  0.908087  0.922165  0.846246   \n",
      "\n",
      "        WSM       YEM       YMD       YUG       ZAF       ZMB       ZWE  \n",
      "0  0.843563  0.904489  0.904355  0.870595  0.829657  0.912183  0.936876  \n",
      "\n",
      "[1 rows x 203 columns]\n"
     ]
    }
   ],
   "source": [
    "agreement_china_average = query_engine.query_agreement_between_countries('CHN', average=True)\n",
    "\n",
    "print(agreement_china_average.head())   "
   ]
  },
  {
   "cell_type": "code",
   "execution_count": 3,
   "id": "c51e09c6",
   "metadata": {},
   "outputs": [],
   "source": [
    "data = repo.get_data()"
   ]
  },
  {
   "cell_type": "code",
   "execution_count": 4,
   "id": "8d5c22a2",
   "metadata": {},
   "outputs": [],
   "source": [
    "matrices = data['agreement_matrices']"
   ]
  },
  {
   "cell_type": "code",
   "execution_count": 13,
   "id": "ab5ba2bf",
   "metadata": {},
   "outputs": [
    {
     "name": "stdout",
     "output_type": "stream",
     "text": [
      "[[1.  1.  1.  ... nan 0.  0.5]\n",
      " [1.  1.  1.  ... nan 0.  0.5]\n",
      " [1.  1.  1.  ... nan 0.  0.5]\n",
      " ...\n",
      " [nan nan nan ... 1.  nan nan]\n",
      " [0.  0.  0.  ... nan 1.  0.5]\n",
      " [0.5 0.5 0.5 ... nan 0.5 1. ]]\n"
     ]
    }
   ],
   "source": [
    "print(matrices[278340])"
   ]
  },
  {
   "cell_type": "code",
   "execution_count": 7,
   "id": "a2a24cb4",
   "metadata": {},
   "outputs": [],
   "source": [
    "resolutions = data['resolution']"
   ]
  },
  {
   "cell_type": "code",
   "execution_count": 9,
   "id": "2be64872",
   "metadata": {},
   "outputs": [
    {
     "name": "stdout",
     "output_type": "stream",
     "text": [
      "(5534, 217)\n"
     ]
    }
   ],
   "source": [
    "print(resolutions.shape)"
   ]
  },
  {
   "cell_type": "code",
   "execution_count": null,
   "id": "1712d0f2",
   "metadata": {},
   "outputs": [],
   "source": []
  }
 ],
 "metadata": {
  "kernelspec": {
   "display_name": "un-projekt",
   "language": "python",
   "name": "python3"
  },
  "language_info": {
   "codemirror_mode": {
    "name": "ipython",
    "version": 3
   },
   "file_extension": ".py",
   "mimetype": "text/x-python",
   "name": "python",
   "nbconvert_exporter": "python",
   "pygments_lexer": "ipython3",
   "version": "3.11.13"
  }
 },
 "nbformat": 4,
 "nbformat_minor": 5
}
