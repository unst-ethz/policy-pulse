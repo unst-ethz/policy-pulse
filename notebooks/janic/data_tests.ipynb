{
 "cells": [
  {
   "cell_type": "markdown",
   "id": "acada072",
   "metadata": {},
   "source": [
    "# Test cases to test the abstracted data pipeline"
   ]
  },
  {
   "cell_type": "code",
   "execution_count": null,
   "id": "cb4e719f",
   "metadata": {},
   "outputs": [
    {
     "name": "stdout",
     "output_type": "stream",
     "text": [
      "INFO - Logging setup complete.\n",
      "INFO - Initializing UNDataRepository\n",
      "INFO - URL is valid: https://digitallibrary.un.org/record/4075456/files/unbist-20250708_2.ttl\n",
      "INFO - Cached Data files not found.\n",
      "INFO - Fetching GA resolutions from https://digitallibrary.un.org/record/4060887/files/2025_9_19_ga_voting.csv\n"
     ]
    },
    {
     "name": "stderr",
     "output_type": "stream",
     "text": [
      "c:\\Users\\janic\\OneDrive\\Desktop\\ETH\\UN Projekt\\policy-pulse\\notebooks\\janic\\unDataStream\\fetchers\\ga_fetcher.py:24: DtypeWarning: Columns (5,13) have mixed types. Specify dtype option on import or set low_memory=False.\n",
      "  df = pd.read_csv(source_config['url'])\n"
     ]
    },
    {
     "name": "stdout",
     "output_type": "stream",
     "text": [
      "INFO - Successfully fetched 916554 GA resolution records\n",
      "INFO - Fetching thesaurus from https://digitallibrary.un.org/record/4075456/files/unbist-20250708_2.ttl\n",
      "INFO - Downloaded thesaurus file successfully\n",
      "INFO - Processing thesaurus data\n",
      "INFO - Extracted 7341 subjects/schemes:\n",
      "INFO -   - Concepts: 7322\n",
      "INFO -   - Schemes: 19\n",
      "INFO - Found 7341 subjects/schemes\n",
      "INFO - Found 12776 parent-child relationships\n",
      "INFO - Processing GA resolution data\n",
      "INFO - Transformed 5534 GA resolutions\n",
      "INFO - Parsing GA subjects using | and -- delimiters\n",
      "INFO - Expanded subjects from 443 to 255 unique subjects.\n",
      "INFO - Matching GA subjects to subject IDs\n",
      "INFO - GA Subject Mapping Results:\n",
      "INFO -   Total rows: 5856\n",
      "INFO -   Matched: 3390 (57.9%)\n",
      "INFO -   Unmatched: 2466 (42.1%)\n",
      "INFO - Sample unmatched GA subjects:\n",
      "INFO -   - 'nan'\n",
      "INFO -   - 'UN. ECONOMIC AND SOCIAL COUNCIL'\n",
      "INFO -   - 'REVIEW CONFERENCE OF THE PARTIES TO THE TREATY ON THE NON-PROLIFERATION OF NUCLEAR WEAPONS (3RD : 1985 : GENEVA)'\n",
      "INFO -   - 'NUCLEAR WEAPON FREEZE'\n",
      "INFO -   - 'NEW INTERNATIONAL ECONOMIC ORDER'\n",
      "INFO - Processed 5856 GA resolutions with parsed subjects\n",
      "INFO - \n",
      "Warning: 2432 resolutions have no mapped subjects\n",
      "INFO - Starting agreement matrix calculation\n",
      "INFO - Found 202 country columns\n",
      "INFO - Processing 5534 resolutions\n"
     ]
    }
   ],
   "source": [
    "from unDataStream import DataRepository\n",
    "\n",
    "repo = DataRepository(config_path='config/data_sources.yaml')"
   ]
  },
  {
   "cell_type": "code",
   "execution_count": null,
   "id": "a153a575",
   "metadata": {},
   "outputs": [],
   "source": [
    "from unDataStream import ResolutionQueryEngine\n",
    "\n",
    "query_engine = ResolutionQueryEngine(repo=repo)"
   ]
  },
  {
   "cell_type": "code",
   "execution_count": null,
   "id": "49ade910",
   "metadata": {},
   "outputs": [],
   "source": [
    "agreement_china = query_engine.query_agreement_between_countries('CHN')\n",
    "\n",
    "print(agreement_china.head())"
   ]
  },
  {
   "cell_type": "code",
   "execution_count": null,
   "id": "3d99b544",
   "metadata": {},
   "outputs": [],
   "source": [
    "agreement_china_average = query_engine.query_agreement_between_countries('CHN', average=True)\n",
    "\n",
    "print(agreement_china_average.head())   "
   ]
  },
  {
   "cell_type": "code",
   "execution_count": 3,
   "id": "c51e09c6",
   "metadata": {},
   "outputs": [],
   "source": [
    "data = repo.get_data()"
   ]
  },
  {
   "cell_type": "code",
   "execution_count": 4,
   "id": "8d5c22a2",
   "metadata": {},
   "outputs": [],
   "source": [
    "matrices = data['agreement_matrices']"
   ]
  },
  {
   "cell_type": "code",
   "execution_count": 13,
   "id": "ab5ba2bf",
   "metadata": {},
   "outputs": [
    {
     "name": "stdout",
     "output_type": "stream",
     "text": [
      "[[1.  1.  1.  ... nan 0.  0.5]\n",
      " [1.  1.  1.  ... nan 0.  0.5]\n",
      " [1.  1.  1.  ... nan 0.  0.5]\n",
      " ...\n",
      " [nan nan nan ... 1.  nan nan]\n",
      " [0.  0.  0.  ... nan 1.  0.5]\n",
      " [0.5 0.5 0.5 ... nan 0.5 1. ]]\n"
     ]
    }
   ],
   "source": [
    "print(matrices[278340])"
   ]
  },
  {
   "cell_type": "code",
   "execution_count": 7,
   "id": "a2a24cb4",
   "metadata": {},
   "outputs": [],
   "source": [
    "resolutions = data['resolution']"
   ]
  },
  {
   "cell_type": "code",
   "execution_count": 9,
   "id": "2be64872",
   "metadata": {},
   "outputs": [
    {
     "name": "stdout",
     "output_type": "stream",
     "text": [
      "(5534, 217)\n"
     ]
    }
   ],
   "source": [
    "print(resolutions.shape)"
   ]
  },
  {
   "cell_type": "code",
   "execution_count": null,
   "id": "1712d0f2",
   "metadata": {},
   "outputs": [],
   "source": []
  }
 ],
 "metadata": {
  "kernelspec": {
   "display_name": "un-projekt",
   "language": "python",
   "name": "python3"
  },
  "language_info": {
   "codemirror_mode": {
    "name": "ipython",
    "version": 3
   },
   "file_extension": ".py",
   "mimetype": "text/x-python",
   "name": "python",
   "nbconvert_exporter": "python",
   "pygments_lexer": "ipython3",
   "version": "3.11.13"
  }
 },
 "nbformat": 4,
 "nbformat_minor": 5
}
