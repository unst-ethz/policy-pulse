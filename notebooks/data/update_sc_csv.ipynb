{
 "cells": [
  {
   "cell_type": "code",
   "execution_count": null,
   "metadata": {},
   "outputs": [],
   "source": [
    "import pandas as pd\n",
    "df_sc_adopted = pd.read_csv(\"2025_7_21_sc_voting.csv\")"
   ]
  },
  {
   "cell_type": "code",
   "execution_count": null,
   "metadata": {},
   "outputs": [],
   "source": [
    "# dropped a lot of data to easily match the datasets for now\n",
    "index_columns = [\"resolution\", \"date\", \"agenda\"]\n",
    "adopted_transformed_df_sc = df_sc_adopted.pivot(index=index_columns, columns='ms_name', values='ms_vote').reset_index()\n",
    "adopted_transformed_df_sc.columns.name = None\n",
    "adopted_transformed_df_sc[\"resolution_adopted\"] = \"Y\""
   ]
  },
  {
   "cell_type": "code",
   "execution_count": null,
   "metadata": {},
   "outputs": [],
   "source": [
    "df_sc_vetoes = pd.read_csv(\"DPPA-SCVETOES.csv\")\n",
    "df_sc_vetoes = df_sc_vetoes.rename(columns={\"draft_res#\": \"resolution\",\n",
    "                             \"china\": \"CHINA\",\n",
    "                             \"russian_federation_ussr\": \"RUSSIAN FEDERATION\", # combined russia and ussr for now, we could change this based on vote date later on\n",
    "                             \"france\": \"FRANCE\",\n",
    "                             \"united_states\": \"UNITED STATES\",\n",
    "                             \"united_kingdom\": \"UNITED KINGDOM\"})\n",
    "\n",
    "# also not sure whether 0 should be Y or A, considering the countries didn't vote but didn't veto\n",
    "# for now Y seems more plausible\n",
    "df_sc_vetoes = df_sc_vetoes.replace({1: \"N\", 0:\"Y\"})\n",
    "df_sc_vetoes = df_sc_vetoes.drop(columns=[\"id\", \"year\", \"record\", \"url_for_res#\", \"url_for_record\", \"#_of_pms\", \"short_agenda\", \"last_update\"])\n",
    "df_sc_vetoes[\"resolution_adopted\"] = \"N\""
   ]
  },
  {
   "cell_type": "code",
   "execution_count": null,
   "metadata": {},
   "outputs": [],
   "source": [
    "transformed_df_sc = pd.merge(adopted_transformed_df_sc, df_sc_vetoes, on=df_sc_vetoes.columns.tolist(), how='outer')\n"
   ]
  },
  {
   "cell_type": "code",
   "execution_count": null,
   "metadata": {},
   "outputs": [],
   "source": [
    "output_filename_sc = \"transformed_votes_sc_with_vetoes.csv\"\n",
    "transformed_df_sc.to_csv(output_filename_sc, index=False)\n",
    "output_filename_sample_sc = \"transformed_votes_sample_sc_with_vetoes.csv\"\n",
    "transformed_df_sc.head(100).to_csv(output_filename_sample_sc, index=False)"
   ]
  },
  {
   "cell_type": "code",
   "execution_count": null,
   "metadata": {},
   "outputs": [],
   "source": []
  }
 ],
 "metadata": {
  "kernelspec": {
   "display_name": "base",
   "language": "python",
   "name": "python3"
  },
  "language_info": {
   "codemirror_mode": {
    "name": "ipython",
    "version": 3
   },
   "file_extension": ".py",
   "mimetype": "text/x-python",
   "name": "python",
   "nbconvert_exporter": "python",
   "pygments_lexer": "ipython3",
   "version": "3.12.2"
  }
 },
 "nbformat": 4,
 "nbformat_minor": 2
}
