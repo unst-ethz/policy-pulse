{
 "cells": [
  {
   "cell_type": "code",
   "execution_count": 2,
   "metadata": {},
   "outputs": [],
   "source": [
    "import pandas as pd\n",
    "#df = pd.read_csv(\"/Users/mohamedkamel/Downloads/2025_7_23_ga_voting.csv\")"
   ]
  },
  {
   "cell_type": "markdown",
   "metadata": {},
   "source": [
    "# General Assembly Voting Data"
   ]
  },
  {
   "cell_type": "code",
   "execution_count": 24,
   "metadata": {},
   "outputs": [
    {
     "name": "stderr",
     "output_type": "stream",
     "text": [
      "C:\\Users\\janic\\AppData\\Local\\Temp\\ipykernel_73496\\1783279636.py:2: DtypeWarning: Columns (5,13) have mixed types. Specify dtype option on import or set low_memory=False.\n",
      "  ga_votes = pd.read_csv(ga_path)\n"
     ]
    }
   ],
   "source": [
    "ga_path = \"C:\\\\Users\\\\janic\\\\OneDrive\\\\Desktop\\\\ETH\\\\UN Projekt\\\\GA Data\\\\2025_7_23_ga_voting.csv\"\n",
    "ga_votes = pd.read_csv(ga_path)\n",
    "ga_votes.head(100).to_csv(\"C:\\\\Users\\\\janic\\\\OneDrive\\\\Desktop\\\\ETH\\\\UN Projekt\\\\GA Data\\\\2025_7_23_ga_voting_sample.csv\", index=False)"
   ]
  },
  {
   "cell_type": "code",
   "execution_count": 18,
   "metadata": {},
   "outputs": [],
   "source": [
    "# edit this array to define which data of the resolution to keep in the transformed dataset, must be identical across all rows in that resolution\n",
    "index_columns = [\"undl_id\", \"date\", \"session\", \"resolution\", \"draft\", \"committee_report\", \"meeting\", \"title\", \"agenda_title\", \"subjects\", \"total_yes\", \"total_no\", \"total_abstentions\", \"total_non_voting\", \"total_ms\", \"undl_link\"]\n",
    "transformed_ga = ga_votes.pivot(index=index_columns, columns='ms_name', values='ms_vote').reset_index()\n",
    "transformed_ga.columns.name = None"
   ]
  },
  {
   "cell_type": "code",
   "execution_count": 19,
   "metadata": {},
   "outputs": [],
   "source": [
    "output_filename = \"C:\\\\Users\\\\janic\\\\OneDrive\\\\Desktop\\\\ETH\\\\UN Projekt\\\\GA Data\\\\transformed_ga_votes.csv\"\n",
    "transformed_ga.to_csv(output_filename, index=False)\n",
    "output_filename2 = \"C:\\\\Users\\\\janic\\\\OneDrive\\\\Desktop\\\\ETH\\\\UN Projekt\\\\GA Data\\\\transformed_ga_votes_sample.csv\"\n",
    "transformed_ga.head(100).to_csv(output_filename2, index=False)"
   ]
  },
  {
   "cell_type": "markdown",
   "metadata": {},
   "source": [
    "# Security Council Voting Data"
   ]
  },
  {
   "cell_type": "code",
   "execution_count": 23,
   "metadata": {},
   "outputs": [],
   "source": [
    "sc_path = \"C:\\\\Users\\\\janic\\\\OneDrive\\\\Desktop\\\\ETH\\\\UN Projekt\\\\SC Data\\\\2025_7_21_sc_voting.csv\"\n",
    "sc_votes = pd.read_csv(sc_path)\n",
    "sc_votes.head(100).to_csv(\"C:\\\\Users\\\\janic\\\\OneDrive\\\\Desktop\\\\ETH\\\\UN Projekt\\\\SC Data\\\\2025_7_21_sc_voting_sample.csv\", index=False)"
   ]
  },
  {
   "cell_type": "code",
   "execution_count": 21,
   "metadata": {},
   "outputs": [],
   "source": [
    "# edit this array to define which data of the resolution to keep in the transformed dataset, must be identical across all rows in that resolution\n",
    "index_columns = [\"undl_id\", \"date\", \"resolution\", \"draft\", \"meeting\", \"description\", \"agenda\", \"subjects\", \"modality\", \"total_yes\", \"total_no\", \"total_abstentions\", \"total_non_voting\", \"total_ms\"]\n",
    "transformed_sc = sc_votes.pivot(index=index_columns, columns='ms_name', values='ms_vote').reset_index()\n",
    "transformed_sc.columns.name = None"
   ]
  },
  {
   "cell_type": "code",
   "execution_count": 22,
   "metadata": {},
   "outputs": [],
   "source": [
    "output_filename = \"C:\\\\Users\\\\janic\\\\OneDrive\\\\Desktop\\\\ETH\\\\UN Projekt\\\\SC Data\\\\transformed_sc_votes.csv\"\n",
    "transformed_sc.to_csv(output_filename, index=False)\n",
    "output_filename2 = \"C:\\\\Users\\\\janic\\\\OneDrive\\\\Desktop\\\\ETH\\\\UN Projekt\\\\SC Data\\\\transformed_sc_votes_sample.csv\"\n",
    "transformed_sc.head(100).to_csv(output_filename2, index=False)"
   ]
  },
  {
   "cell_type": "code",
   "execution_count": null,
   "metadata": {},
   "outputs": [],
   "source": []
  }
 ],
 "metadata": {
  "kernelspec": {
   "display_name": "un-projekt",
   "language": "python",
   "name": "python3"
  },
  "language_info": {
   "codemirror_mode": {
    "name": "ipython",
    "version": 3
   },
   "file_extension": ".py",
   "mimetype": "text/x-python",
   "name": "python",
   "nbconvert_exporter": "python",
   "pygments_lexer": "ipython3",
   "version": "3.11.13"
  }
 },
 "nbformat": 4,
 "nbformat_minor": 2
}
